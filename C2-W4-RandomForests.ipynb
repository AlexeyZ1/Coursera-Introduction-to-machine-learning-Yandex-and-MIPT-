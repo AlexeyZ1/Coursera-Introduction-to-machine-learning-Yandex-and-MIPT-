{
 "cells": [
  {
   "cell_type": "code",
   "execution_count": 77,
   "metadata": {},
   "outputs": [
    {
     "name": "stdout",
     "output_type": "stream",
     "text": [
      "Populating the interactive namespace from numpy and matplotlib\n"
     ]
    }
   ],
   "source": [
    "from sklearn.datasets import load_digits\n",
    "from sklearn import ensemble,metrics, tree\n",
    "from sklearn.model_selection import cross_validate,learning_curve, cross_val_score \n",
    "from sklearn.ensemble import BaggingClassifier\n",
    "from sklearn.ensemble import RandomForestClassifier\n",
    "import numpy as np\n",
    "import pandas as pd\n",
    "%pylab inline\n"
   ]
  },
  {
   "cell_type": "code",
   "execution_count": 108,
   "metadata": {},
   "outputs": [
    {
     "data": {
      "text/plain": [
       "<Figure size 432x288 with 0 Axes>"
      ]
     },
     "metadata": {},
     "output_type": "display_data"
    },
    {
     "data": {
      "image/png": "[encoded data removed]",
      "text/plain": [
       "<Figure size 288x288 with 1 Axes>"
      ]
     },
     "metadata": {
      "needs_background": "light"
     },
     "output_type": "display_data"
    }
   ],
   "source": [
    "digits = load_digits()\n",
    "plt.gray() \n",
    "plt.matshow(digits.images[1]) \n",
    "plt.show()\n"
   ]
  },
  {
   "cell_type": "code",
   "execution_count": 126,
   "metadata": {},
   "outputs": [],
   "source": [
    "X = digits.data\n",
    "y = digits.target"
   ]
  },
  {
   "cell_type": "code",
   "execution_count": 157,
   "metadata": {},
   "outputs": [
    {
     "data": {
      "text/plain": [
       "0.8303337234738853"
      ]
     },
     "execution_count": 157,
     "metadata": {},
     "output_type": "execute_result"
    }
   ],
   "source": [
    "clf_1 = tree.DecisionTreeClassifier(random_state=0)\n",
    "cvs_1 = cross_val_score(clf_1, X, y, cv=10)\n",
    "cvs_1.mean()"
   ]
  },
  {
   "cell_type": "code",
   "execution_count": 158,
   "metadata": {},
   "outputs": [],
   "source": [
    "def write_array_to_file(answers, filename):\n",
    "    with open(filename, \"w\") as fout:\n",
    "        fout.write(\" \".join([str(num) for num in answers]))\n",
    "        \n",
    "def write_one_to_file(answer, filename):\n",
    "    with open(filename, \"w\") as fout:\n",
    "        fout.write(str(answer))"
   ]
  },
  {
   "cell_type": "code",
   "execution_count": 159,
   "metadata": {},
   "outputs": [],
   "source": [
    "write_one_to_file(cvs_1.mean(),'c2w4-1.txt')"
   ]
  },
  {
   "cell_type": "code",
   "execution_count": 160,
   "metadata": {},
   "outputs": [
    {
     "data": {
      "text/plain": [
       "0.9243136920825039"
      ]
     },
     "execution_count": 160,
     "metadata": {},
     "output_type": "execute_result"
    }
   ],
   "source": [
    "clf_2 = BaggingClassifier(n_estimators=100, random_state=0).fit(X, y)\n",
    "cvs_2 = cross_val_score(clf_2, X, y, cv=10)\n",
    "cvs_2.mean()"
   ]
  },
  {
   "cell_type": "code",
   "execution_count": 152,
   "metadata": {},
   "outputs": [],
   "source": [
    "write_one_to_file(cvs_2.mean(),'c2w4-2.txt')"
   ]
  },
  {
   "cell_type": "code",
   "execution_count": 161,
   "metadata": {},
   "outputs": [
    {
     "data": {
      "text/plain": [
       "0.9365281294303756"
      ]
     },
     "execution_count": 161,
     "metadata": {},
     "output_type": "execute_result"
    }
   ],
   "source": [
    "clf_3 = BaggingClassifier(n_estimators=100, max_features = round(X.shape[1]**0.5), random_state=0).fit(X, y)\n",
    "cvs_3 = cross_val_score(clf_3, X, y, cv=10)\n",
    "cvs_3.mean()"
   ]
  },
  {
   "cell_type": "code",
   "execution_count": 162,
   "metadata": {},
   "outputs": [],
   "source": [
    "write_one_to_file(cvs_3.mean(),'c2w4-3.txt')"
   ]
  },
  {
   "cell_type": "code",
   "execution_count": 191,
   "metadata": {},
   "outputs": [
    {
     "data": {
      "text/plain": [
       "0.9544773623165452"
      ]
     },
     "execution_count": 191,
     "metadata": {},
     "output_type": "execute_result"
    }
   ],
   "source": [
    "tree_4 = tree.DecisionTreeClassifier(random_state=0,max_features = round(X.shape[1]**0.5))\n",
    "clf_4 = BaggingClassifier(tree_4, n_estimators=100, random_state=0).fit(X, y)\n",
    "cvs_4 = cross_val_score(clf_4, X, y, cv=10)\n",
    "cvs_4.mean()\n"
   ]
  },
  {
   "cell_type": "code",
   "execution_count": 192,
   "metadata": {},
   "outputs": [],
   "source": [
    "write_one_to_file(cvs_4.mean(),'c2w4-4.txt')"
   ]
  },
  {
   "cell_type": "code",
   "execution_count": 195,
   "metadata": {},
   "outputs": [
    {
     "name": "stdout",
     "output_type": "stream",
     "text": [
      "1 0.695409 0.6716750139120757\n",
      "\n",
      "6 0.917162 0.9482470784641068\n",
      "\n",
      "11 0.934963 0.9710628825820813\n",
      "\n",
      "16 0.935499 0.9760712298274903\n",
      "\n",
      "21 0.934943 0.9755147468002225\n",
      "\n",
      "26 0.934943 0.9755147468002225\n",
      "\n",
      "31 0.934943 0.9755147468002225\n",
      "\n",
      "36 0.934943 0.9755147468002225\n",
      "\n",
      "41 0.934943 0.9755147468002225\n",
      "\n",
      "46 0.934943 0.9755147468002225\n",
      "\n"
     ]
    }
   ],
   "source": [
    "for i in range(1,50,5):\n",
    "    clf_5 = RandomForestClassifier(random_state = 0,oob_score=True, max_features = 'auto', max_depth = i,  n_estimators=100).fit(X, y)\n",
    "    cvs_5 = cross_val_score(clf_5, X, y, cv=5)\n",
    "    print(i, round(cvs_5.mean(),6), clf_5.oob_score_)\n",
    "    print()"
   ]
  },
  {
   "cell_type": "code",
   "execution_count": 190,
   "metadata": {},
   "outputs": [],
   "source": [
    "write_array_to_file([2,3,4,7], 'c2w4-5.txt')"
   ]
  }
 ],
 "metadata": {
  "kernelspec": {
   "display_name": "Python 3",
   "language": "python",
   "name": "python3"
  },
  "language_info": {
   "codemirror_mode": {
    "name": "ipython",
    "version": 3
   },
   "file_extension": ".py",
   "mimetype": "text/x-python",
   "name": "python",
   "nbconvert_exporter": "python",
   "pygments_lexer": "ipython3",
   "version": "3.7.4"
  }
 },
 "nbformat": 4,
 "nbformat_minor": 2
}
